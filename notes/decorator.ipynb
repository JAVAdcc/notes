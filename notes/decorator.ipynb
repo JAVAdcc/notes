{
 "cells": [
  {
   "cell_type": "markdown",
   "metadata": {},
   "source": [
    "## decorator @\n",
    "\n",
    "关于python的装饰器，在看infd的代码里有大量用到，说实话之前一直没去学，所以也有点难理解，做个记录。"
   ]
  },
  {
   "cell_type": "code",
   "execution_count": 7,
   "metadata": {},
   "outputs": [
    {
     "name": "stdout",
     "output_type": "stream",
     "text": [
      "before func excution\n",
      "hello\n",
      "after func excution\n",
      "wrapper\n"
     ]
    }
   ],
   "source": [
    "def decorator(func):\n",
    "    # func即为需要包装的函数\n",
    "    def wrapper():\n",
    "        # 内部嵌套一个包装函数，实际被执行的是wrapper\n",
    "        print('before func excution')\n",
    "        func()\n",
    "        print('after func excution')\n",
    "    return wrapper\n",
    "\n",
    "@decorator\n",
    "def say_hello():\n",
    "    print('hello')\n",
    "\n",
    "say_hello()\n",
    "print(say_hello.__name__)\n"
   ]
  },
  {
   "cell_type": "markdown",
   "metadata": {},
   "source": [
    "其实也很好理解，就是通过函数的嵌套给被修饰的函数套了一层衣服\n",
    "但是观察say_hello.name的输出发现是wrapper，这是因为实际被调用的函数是wrapper\n",
    "这一点导致原始函数的信息被修改，为了避免这一点，使用warps方法。"
   ]
  },
  {
   "cell_type": "code",
   "execution_count": 2,
   "metadata": {},
   "outputs": [
    {
     "name": "stdout",
     "output_type": "stream",
     "text": [
      "before func excution\n",
      "3\n",
      "after func excution\n",
      "add\n"
     ]
    }
   ],
   "source": [
    "from functools import wraps\n",
    "\n",
    "def decorator(func):\n",
    "    @wraps(func)\n",
    "    # 有点像是再套一层衣服\n",
    "    def wrapper(*arg, **kwargs):\n",
    "        print('before func excution')\n",
    "        func(*arg, **kwargs)\n",
    "        print('after func excution')\n",
    "    return wrapper\n",
    "\n",
    "@decorator\n",
    "def add(num1, num2):\n",
    "    print(num1 + num2)\n",
    "\n",
    "# add = decorator(add)\n",
    "add(1, 2)\n",
    "print(add.__name__)"
   ]
  },
  {
   "cell_type": "markdown",
   "metadata": {},
   "source": [
    "简单描述一下运行逻辑 \n",
    "\n",
    "@decorator 会使得add = decorator(add)  （decorator返回wrapper）\n",
    "\n",
    "本质上后面调用add已经变成了调用wrapper。\n",
    "\n",
    "所以我作add（1，2）其实是在向wrapper传参\n",
    "\n",
    "后面在wrapper里面参数再被传到add里\n",
    "\n",
    "所以如果wrapper定义的括号里是空的 相当于向wrapper()传递1，2 这就会引发报错\n",
    "\n",
    "---\n"
   ]
  },
  {
   "cell_type": "markdown",
   "metadata": {},
   "source": [
    "用类装饰函数"
   ]
  },
  {
   "cell_type": "code",
   "execution_count": 10,
   "metadata": {},
   "outputs": [
    {
     "name": "stdout",
     "output_type": "stream",
     "text": [
      "before excution\n",
      "after excution\n",
      "3\n"
     ]
    }
   ],
   "source": [
    "# 正常的使用方式\n",
    "class decorator:\n",
    "    def __init__(self, func):\n",
    "        self.func = func\n",
    "\n",
    "    def __call__(self, *args, **kwargs):\n",
    "        print('before excution')\n",
    "        result = self.func(*args, **kwargs)\n",
    "        print('after excution')\n",
    "        return result\n",
    "    \n",
    "@decorator\n",
    "def add(a, b):\n",
    "    return a + b\n",
    "\n",
    "print(add(1, 2))"
   ]
  },
  {
   "cell_type": "markdown",
   "metadata": {},
   "source": [
    "这种装饰方式下看不出任何异常 add的运行似乎和用函数装饰一致\n",
    "\n",
    "事实并非如此 add装饰后已经变成了一个实例化的obbject\n",
    "\n",
    "只是因为我们对decorator类的call方法的维护掩盖了这一点\n",
    "\n",
    "下面更加明显地揭示这一点"
   ]
  },
  {
   "cell_type": "code",
   "execution_count": null,
   "metadata": {},
   "outputs": [
    {
     "name": "stdout",
     "output_type": "stream",
     "text": [
      "before excution\n",
      "3\n",
      "after excution\n"
     ]
    },
    {
     "data": {
      "text/plain": [
       "<function __main__.add(a, b)>"
      ]
     },
     "execution_count": 7,
     "metadata": {},
     "output_type": "execute_result"
    }
   ],
   "source": [
    "class decorator:\n",
    "    def __init__(self, func):\n",
    "        self.func = func\n",
    "\n",
    "    def __call__(self, *args, **kwds):\n",
    "        @wraps(self.func)\n",
    "        def wrapper(*args, **kwargs):\n",
    "            print('before excution')\n",
    "            self.func(*args, **kwargs)\n",
    "            print('after excution')\n",
    "        return wrapper\n",
    "    \n",
    "@decorator\n",
    "# add = decorator(add)\n",
    "def add(a, b):\n",
    "    print(a + b)\n",
    "\n",
    "obb1 = add()\n",
    "obb1(1, 2)\n",
    "\n",
    "obb2 = add\n",
    "obb2(1, 2)"
   ]
  },
  {
   "cell_type": "markdown",
   "metadata": {},
   "source": [
    "@的运行逻辑还是一样 （如注释）\n",
    "\n",
    "add()实际上是decorator类的实例化调用了call方法\n",
    "\n",
    "add仅仅复制了一个实例\n",
    "\n",
    "最后obb2的返回值没有正常输出 在jupyter的环境里似乎把它自动打印了"
   ]
  }
 ],
 "metadata": {
  "kernelspec": {
   "display_name": "wym",
   "language": "python",
   "name": "python3"
  },
  "language_info": {
   "codemirror_mode": {
    "name": "ipython",
    "version": 3
   },
   "file_extension": ".py",
   "mimetype": "text/x-python",
   "name": "python",
   "nbconvert_exporter": "python",
   "pygments_lexer": "ipython3",
   "version": "3.12.9"
  }
 },
 "nbformat": 4,
 "nbformat_minor": 2
}
