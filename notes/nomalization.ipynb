{
 "cells": [
  {
   "cell_type": "markdown",
   "metadata": {},
   "source": [
    "## Batch nomalization & Layer nomalization\n",
    "\n",
    "这个东西实在有点搞 直接写算例说明吧"
   ]
  },
  {
   "cell_type": "code",
   "execution_count": 2,
   "metadata": {},
   "outputs": [
    {
     "name": "stdout",
     "output_type": "stream",
     "text": [
      "tensor([[[1., 2., 3.],\n",
      "         [3., 3., 3.],\n",
      "         [3., 4., 5.]],\n",
      "\n",
      "        [[4., 5., 6.],\n",
      "         [3., 3., 3.],\n",
      "         [7., 8., 9.]]])\n",
      "tensor([[[-1.4638, -0.8783, -0.2928],\n",
      "         [ 0.0000,  0.0000,  0.0000],\n",
      "         [-1.3887, -0.9258, -0.4629]],\n",
      "\n",
      "        [[ 0.2928,  0.8783,  1.4638],\n",
      "         [ 0.0000,  0.0000,  0.0000],\n",
      "         [ 0.4629,  0.9258,  1.3887]]])\n"
     ]
    }
   ],
   "source": [
    "import torch\n",
    "import torch.nn as nn\n",
    "\n",
    "x = torch.tensor([[[1,2,3], [3,3,3], [3,4,5]],\n",
    "                  [[4,5,6], [3,3,3], [7,8,9]]], dtype=torch.float32)\n",
    "# shape(batch_size=2, channels=3, length=3)\n",
    "print(x)\n",
    "\n",
    "batch_norm = nn.BatchNorm1d(3, affine=False)\n",
    "x = batch_norm(x)\n",
    "print(x)"
   ]
  },
  {
   "cell_type": "markdown",
   "metadata": {},
   "source": [
    "期望的输入shape为(batch_size, channels, length)\n",
    "\n",
    "做法是在每个channel上，也即输入张量的第二个维度上，统计所有batch和length上的均值和方差，据此对这部分数据归一化，比如上例中第一个channel（也是dimension）上的数据就是123456"
   ]
  },
  {
   "cell_type": "code",
   "execution_count": 5,
   "metadata": {},
   "outputs": [
    {
     "name": "stdout",
     "output_type": "stream",
     "text": [
      "tensor([[[ 1.,  2.,  3.],\n",
      "         [ 3.,  3.,  3.],\n",
      "         [ 3.,  4.,  5.]],\n",
      "\n",
      "        [[ 4.,  5.,  6.],\n",
      "         [ 3.,  3.,  3.],\n",
      "         [ 7.,  8., 10.]]])\n",
      "tensor([[[-1.2247,  0.0000,  1.2247],\n",
      "         [ 0.0000,  0.0000,  0.0000],\n",
      "         [-1.2247,  0.0000,  1.2247]],\n",
      "\n",
      "        [[-1.2247,  0.0000,  1.2247],\n",
      "         [ 0.0000,  0.0000,  0.0000],\n",
      "         [-1.0690, -0.2673,  1.3363]]])\n"
     ]
    }
   ],
   "source": [
    "layer_norm = nn.LayerNorm(3, elementwise_affine=False)\n",
    "\n",
    "y = torch.tensor([[[1,2,3], [3,3,3], [3,4,5]],\n",
    "                  [[4,5,6], [3,3,3], [7,8,10]]], dtype=torch.float32)\n",
    "print(y)\n",
    "\n",
    "y = layer_norm(y)\n",
    "print(y)"
   ]
  },
  {
   "cell_type": "markdown",
   "metadata": {},
   "source": [
    "layer nomalization 接收的shape为(batch_size, length, channels)\n",
    "\n",
    "会作用于第三个维度，对每一个batch的每一个时间步上的数据按dimension归一化 \n",
    "\n",
    "比如上面第一行输出就是对123 第二行是333……"
   ]
  },
  {
   "cell_type": "code",
   "execution_count": 6,
   "metadata": {},
   "outputs": [
    {
     "name": "stdout",
     "output_type": "stream",
     "text": [
      "tensor([[[ 1.,  2.,  3.],\n",
      "         [ 3.,  3.,  3.],\n",
      "         [ 3.,  4.,  5.]],\n",
      "\n",
      "        [[ 4.,  5.,  6.],\n",
      "         [ 3.,  3.,  3.],\n",
      "         [ 7.,  8., 10.]]])\n",
      "tensor([[[-1.2247,  0.0000,  1.2247],\n",
      "         [ 0.0000,  0.0000,  0.0000],\n",
      "         [-1.2247,  0.0000,  1.2247]],\n",
      "\n",
      "        [[-1.2247,  0.0000,  1.2247],\n",
      "         [ 0.0000,  0.0000,  0.0000],\n",
      "         [-1.0690, -0.2673,  1.3363]]])\n"
     ]
    }
   ],
   "source": [
    "instant_norm = nn.InstanceNorm1d(3)\n",
    "\n",
    "z = torch.tensor([[[1,2,3], [3,3,3], [3,4,5]],\n",
    "                  [[4,5,6], [3,3,3], [7,8,10]]], dtype=torch.float32)\n",
    "\n",
    "print(z)\n",
    "print(instant_norm(z))"
   ]
  }
 ],
 "metadata": {
  "kernelspec": {
   "display_name": "base",
   "language": "python",
   "name": "python3"
  },
  "language_info": {
   "codemirror_mode": {
    "name": "ipython",
    "version": 3
   },
   "file_extension": ".py",
   "mimetype": "text/x-python",
   "name": "python",
   "nbconvert_exporter": "python",
   "pygments_lexer": "ipython3",
   "version": "3.11.5"
  }
 },
 "nbformat": 4,
 "nbformat_minor": 2
}
