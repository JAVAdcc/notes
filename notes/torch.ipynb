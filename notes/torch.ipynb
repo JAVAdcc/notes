{
 "cells": [
  {
   "cell_type": "markdown",
   "metadata": {},
   "source": [
    "### 记录torch操作\n",
    "\n",
    "感觉在两个算例里面最头疼的还是tensor的这些操作，在实例中看感觉还蛮清晰的，读代码就有点一头雾水\n",
    "\n",
    "---"
   ]
  },
  {
   "cell_type": "markdown",
   "metadata": {},
   "source": [
    "\n",
    "**torch.nn.Linear**\n",
    "\n",
    "```python\n",
    "# 参数如下 只需要给定一组输入中输入的feature数和输出的feature数\n",
    "nn.Linear(in_features = 8, out_features = 16)\n",
    "```\n",
    "\n",
    "在写CNN的时候产生的一些困惑，关于batch和这个Linear层\n",
    "\n",
    "Linear层相当于一个矩阵M，形状为[input,output],\n",
    "\n",
    "那我们假定输入为X，[batch_size,input]，输出为Y，[batch_size,output]\n",
    "\n",
    "就有$Y = X \\cdot M + b$\n",
    "\n",
    "所以想要表达的是，batch的存在只是对输出增加了一个重复堆叠的过程，对Linear的参数毫无影响\n",
    "\n",
    "---\n"
   ]
  },
  {
   "cell_type": "markdown",
   "metadata": {},
   "source": [
    "**view操作**\n",
    "\n",
    "是对张量的一个重构操作，只需明白存储是从里往外一行一行存，重构时的填充是从内往外一行一行填"
   ]
  },
  {
   "cell_type": "code",
   "execution_count": null,
   "metadata": {},
   "outputs": [],
   "source": [
    "import torch\n",
    "\n",
    "x = torch.tensor([[ 1.,  2.,  3.,  1.,  2.,  3.,  1.,  2.,  3.],\n",
    "        [ 4.,  5.,  6.,  4.,  5.,  6.,  4.,  5.,  6.],\n",
    "        [ 7.,  8.,  9.,  7.,  8.,  9.,  7.,  8.,  9.],\n",
    "        [10., 11., 12., 10., 11., 12., 10., 11., 12.],\n",
    "        [13., 14., 15., 13., 14., 15., 13., 14., 15.]])\n",
    "print(x)\n",
    "\n",
    "x = x.view(5 ,3 ,3)\n",
    "print(x)\n",
    "x = x.view(3 ,5 ,3)\n",
    "print(x)"
   ]
  },
  {
   "cell_type": "markdown",
   "metadata": {},
   "source": [
    "\n",
    "---\n",
    "\n",
    "**permute操作**\n",
    "\n",
    "对原始张量shape的换序"
   ]
  },
  {
   "cell_type": "code",
   "execution_count": null,
   "metadata": {},
   "outputs": [],
   "source": [
    "print(x.shape)\n",
    "x = x.permute(0, 2, 1)\n",
    "print(x.shape)"
   ]
  },
  {
   "cell_type": "markdown",
   "metadata": {},
   "source": [
    "\n",
    "---\n",
    "\n",
    "**torchvision.transforms.compose类**\n",
    "\n",
    "感觉是实现了spatial transformer一层的功能，compose将几个预处理的函数串联在一起，但是用法不太直观，首先说明用法"
   ]
  },
  {
   "cell_type": "code",
   "execution_count": 9,
   "metadata": {},
   "outputs": [],
   "source": [
    "import torchvision.transforms as transforms\n",
    "from PIL import Image\n",
    "\n",
    "tranform = transforms.Compose([\n",
    "    transforms.Resize((128, 128)),\n",
    "    # 顾名思义\n",
    "    transforms.ToTensor(),\n",
    "    # img转成张量，RGB值归一化到01之间\n",
    "    transforms.Normalize(mean=[0.485, 0.456, 0.406], std=[0.229, 0.224, 0.225])\n",
    "    # 归一化\n",
    "])\n",
    "\n",
    "# img = Image.open('img.jpg')\n",
    "# img_tensor = tranform(img)"
   ]
  },
  {
   "cell_type": "markdown",
   "metadata": {},
   "source": [
    "可以注意到compose里面函数给的参数也比较神秘，看不到img的影子，实际上是compose作用于img时已经把img传进内部的几个函数里面。\n",
    "另外可以看到，transform作为compose类的实例化，使用时transform(img)与函数的用法一样，是使用了__call__方法，也是比较神奇\n",
    "这两点具体还是得把compose的原理写一写"
   ]
  },
  {
   "cell_type": "code",
   "execution_count": 10,
   "metadata": {},
   "outputs": [],
   "source": [
    "class compose:\n",
    "    \n",
    "    def __init__(self, functions):\n",
    "        self.functions = functions\n",
    "\n",
    "    def __call__(self, img):\n",
    "        for function in self.functions:\n",
    "            img = function(img)\n",
    "        return img"
   ]
  },
  {
   "cell_type": "markdown",
   "metadata": {},
   "source": [
    "\n",
    "---\n",
    "\n",
    "**torch.utils.data中的Dataset&Dataloader**\n",
    "\n",
    "假定我们现在只有X和Y（即feature和label），torch提供一个抽象类Dataset，继承这个抽象类，并赋予它self.X,self.Y,以及__getitem__,__len__两个方法，最后用我们的XY实例化出一个dataset。\n",
    "要想访问这个datset，使用torch提供的Dataloader类，实例化一个dataloader，可以分批取出data，dataloader本身是一个可迭代对象，可以通过下面的方式取出每一个batch的x，y。\n",
    "``` python\n",
    "for x, y in dataloader\n",
    "```\n",
    "如果想得到每个batch的index也可以用enumerate的方式。\n",
    "``` python\n",
    "for x, y in enumerate(dataloader)\n",
    "```"
   ]
  },
  {
   "cell_type": "code",
   "execution_count": 5,
   "metadata": {},
   "outputs": [
    {
     "name": "stdout",
     "output_type": "stream",
     "text": [
      "tensor([1, 2]) tensor([10, 20])\n",
      "tensor([3, 4]) tensor([30, 40])\n",
      "tensor([5, 6]) tensor([50, 60])\n",
      "0 [tensor([1, 2]), tensor([10, 20])]\n",
      "1 [tensor([3, 4]), tensor([30, 40])]\n",
      "2 [tensor([5, 6]), tensor([50, 60])]\n"
     ]
    }
   ],
   "source": [
    "import torch\n",
    "from torch.utils.data import DataLoader, Dataset\n",
    "\n",
    "class MyDataset(Dataset):\n",
    "    def __init__(self, X, Y):\n",
    "        super().__init__()\n",
    "        self.X = X\n",
    "        self.Y = Y\n",
    "\n",
    "    def __getitem__(self, index):\n",
    "        x = torch.tensor(self.X[index])\n",
    "        y = torch.tensor(self.Y[index])\n",
    "        return (x, y)\n",
    "    \n",
    "    def __len__(self):\n",
    "        return len(self.X)\n",
    "\n",
    "dataset = MyDataset([1,2,3,4,5,6], [10,20,30,40,50,60])\n",
    "dataloader = DataLoader(dataset, batch_size=2, shuffle=False)\n",
    "\n",
    "for x, y in dataloader:\n",
    "    print(x,y)\n",
    "\n",
    "for x, y in enumerate(dataloader):\n",
    "    print(x,y)"
   ]
  }
 ],
 "metadata": {
  "kernelspec": {
   "display_name": "base",
   "language": "python",
   "name": "python3"
  },
  "language_info": {
   "codemirror_mode": {
    "name": "ipython",
    "version": 3
   },
   "file_extension": ".py",
   "mimetype": "text/x-python",
   "name": "python",
   "nbconvert_exporter": "python",
   "pygments_lexer": "ipython3",
   "version": "3.11.5"
  }
 },
 "nbformat": 4,
 "nbformat_minor": 2
}
